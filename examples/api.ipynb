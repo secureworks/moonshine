{
 "cells": [
  {
   "cell_type": "markdown",
   "id": "28139cf6-ee88-4e25-b844-eaf07028e569",
   "metadata": {},
   "source": [
    "# Setup"
   ]
  },
  {
   "cell_type": "code",
   "execution_count": null,
   "id": "13b5e1d0-8efb-4544-ba40-f676dba3e98c",
   "metadata": {
    "scrolled": true
   },
   "outputs": [],
   "source": [
    "!pip3 install wheel\n",
    "!pip3 install --upgrade --force-reinstall client-sdk/python/"
   ]
  },
  {
   "cell_type": "code",
   "execution_count": null,
   "id": "8045a798-e335-48fb-a5b4-7a45aa87c5c4",
   "metadata": {},
   "outputs": [],
   "source": [
    "import moonshine\n",
    "from moonshine.api import default_api\n",
    "from moonshine.model.argument import Argument\n",
    "from moonshine.model.architecture_string import ArchitectureString as Architecture\n",
    "from moonshine.model.artifact_type_string import ArtifactTypeString as ArtifactType\n",
    "from moonshine.model.implant import Implant\n",
    "from moonshine.model.implants_page import ImplantsPage\n",
    "from moonshine.model.listener import Listener\n",
    "from moonshine.model.listeners_page import ListenersPage\n",
    "from moonshine.model.operating_system_string import OperatingSystemString as OperatingSystem\n",
    "from moonshine.model.status import Status\n",
    "from moonshine.model.task import Task\n",
    "from moonshine.model.task_status_int32 import TaskStatusInt32 as TaskStatus\n",
    "from moonshine.model.tasks_page import TasksPage\n",
    "from moonshine.model.job import Job\n",
    "from moonshine.model.job_status_int32 import JobStatusInt32 as JobStatus\n",
    "from moonshine.model.job_success_int32 import JobSuccessInt32 as JobSuccess\n",
    "from moonshine.model.service import Service\n",
    "from moonshine.model.services_page import ServicesPage\n",
    "from moonshine import ApiException\n",
    "\n",
    "import os\n",
    "import time\n",
    "import json\n",
    "import base64\n",
    "from io import BytesIO\n",
    "import zipfile\n",
    "from pprint import pprint\n",
    "import urllib3\n",
    "urllib3.disable_warnings()"
   ]
  },
  {
   "cell_type": "markdown",
   "id": "bb642dd7-fb01-48b8-a60e-851da122abe5",
   "metadata": {},
   "source": [
    "#### Create an instance of the API class"
   ]
  },
  {
   "cell_type": "code",
   "execution_count": null,
   "id": "6747f899-0c9e-48d4-8633-5dc5a768481e",
   "metadata": {},
   "outputs": [],
   "source": [
    "configuration = moonshine.Configuration(\n",
    "    host = \"https://127.0.0.1:9000\"\n",
    ")\n",
    "configuration.verify_ssl = False\n",
    "api = default_api.DefaultApi(moonshine.ApiClient(configuration))"
   ]
  },
  {
   "cell_type": "markdown",
   "id": "ae2c9d8f-cd0d-46d1-96c9-38e62577ad63",
   "metadata": {},
   "source": [
    "# Listener Management"
   ]
  },
  {
   "cell_type": "markdown",
   "id": "13bfe0ec-c32e-43e3-afd0-a5a02d350499",
   "metadata": {},
   "source": [
    "#### List"
   ]
  },
  {
   "cell_type": "code",
   "execution_count": null,
   "id": "31f36ddc-65a0-405a-8a32-2c227fce2c23",
   "metadata": {},
   "outputs": [],
   "source": [
    "listeners = api.get_listeners(offset=0, limit=100)\n",
    "pprint(listeners)"
   ]
  },
  {
   "cell_type": "markdown",
   "id": "5694bd32-04ef-4714-9d8f-265faf96b21b",
   "metadata": {},
   "source": [
    "#### Create"
   ]
  },
  {
   "cell_type": "markdown",
   "id": "f23c42fc",
   "metadata": {},
   "source": [
    "Create a package (zip) containing the main listener script (init.lua), and any dependancies"
   ]
  },
  {
   "cell_type": "code",
   "execution_count": null,
   "id": "10c5d290",
   "metadata": {},
   "outputs": [],
   "source": [
    "listener_package = BytesIO()\n",
    "with zipfile.ZipFile(listener_package, mode=\"w\",compression=zipfile.ZIP_DEFLATED) as zf:\n",
    "    zf.writestr(\"init.lua\", open(\"scripts/http/listener.lua\", \"rb\").read())\n",
    "    zf.writestr(\"httpd.lua\", open(\"scripts/http/httpd.lua\", \"rb\").read())"
   ]
  },
  {
   "cell_type": "markdown",
   "id": "bfa26358",
   "metadata": {},
   "source": [
    "Do the same again for the corresponding implant script. Note, implants have a package size limit of 5KB."
   ]
  },
  {
   "cell_type": "code",
   "execution_count": null,
   "id": "fb7e2280-f212-43ee-b958-d39a6c40da99",
   "metadata": {},
   "outputs": [],
   "source": [
    "implant_package = BytesIO()\n",
    "with zipfile.ZipFile(implant_package, mode=\"w\",compression=zipfile.ZIP_DEFLATED) as zf:\n",
    "    zf.writestr(\"init.lua\", open(\"scripts/http/implant.lua\", \"rb\").read())"
   ]
  },
  {
   "cell_type": "markdown",
   "id": "87f5e59c",
   "metadata": {},
   "source": [
    "Create a listener object that will be used to populate the create listener API call"
   ]
  },
  {
   "cell_type": "code",
   "execution_count": null,
   "id": "cdef4032-f63d-47a1-8c8e-2d0ad7e46c8e",
   "metadata": {},
   "outputs": [],
   "source": [
    "listener = Listener(\n",
    "        name=\"HTTP Listener\",\n",
    "        package=base64.b64encode(listener_package.getvalue()).decode(),\n",
    "        implant_package=base64.b64encode(implant_package.getvalue()).decode(),\n",
    "        implant_connection_string=\"http://127.0.0.1:8080\"\n",
    "    )\n",
    "\n",
    "listener.arguments = [\n",
    "    Argument(base64.b64encode(b\"0.0.0.0\").decode()),\n",
    "    Argument(base64.b64encode(b\"8080\").decode()),\n",
    "]"
   ]
  },
  {
   "cell_type": "markdown",
   "id": "1d32b17a",
   "metadata": {},
   "source": [
    "Make API call"
   ]
  },
  {
   "cell_type": "code",
   "execution_count": null,
   "id": "f83d75e0-08c6-4eb9-aaaa-5c84e21eae9e",
   "metadata": {},
   "outputs": [],
   "source": [
    "listener = api.create_listener(listener)\n",
    "pprint(listener.id)"
   ]
  },
  {
   "cell_type": "markdown",
   "id": "8db0378f",
   "metadata": {},
   "source": [
    "Check if listener has been created"
   ]
  },
  {
   "cell_type": "code",
   "execution_count": null,
   "id": "110fa58c",
   "metadata": {
    "scrolled": true
   },
   "outputs": [],
   "source": [
    "listeners = api.get_listeners(offset=0, limit=100)\n",
    "print(listeners.count)"
   ]
  },
  {
   "cell_type": "markdown",
   "id": "ae43d006-a91d-4945-aea9-021fd7d1acee",
   "metadata": {},
   "source": [
    "Start the listener"
   ]
  },
  {
   "cell_type": "code",
   "execution_count": null,
   "id": "329889b8-8e8b-48af-ac64-749b3b02678c",
   "metadata": {},
   "outputs": [],
   "source": [
    "response = api.start_listener(listener.id)\n",
    "pprint(response)"
   ]
  },
  {
   "cell_type": "markdown",
   "id": "10988aec-6e97-499a-a72d-5667634fd4ec",
   "metadata": {},
   "source": [
    "#### Stop listener"
   ]
  },
  {
   "cell_type": "code",
   "execution_count": null,
   "id": "8c11a9fa-c96e-484c-b09b-6c1b2122068f",
   "metadata": {},
   "outputs": [],
   "source": [
    "response = api.stop_listener(listener.id)\n",
    "pprint(response)"
   ]
  },
  {
   "cell_type": "markdown",
   "id": "75ec8a3b-f28b-42f2-a528-fb08b8ac66a2",
   "metadata": {},
   "source": [
    "#### Delete listener"
   ]
  },
  {
   "cell_type": "code",
   "execution_count": null,
   "id": "0c08ec4c-60b0-43d4-842d-0a4f79100054",
   "metadata": {},
   "outputs": [],
   "source": [
    "listeners = api.get_listeners(offset=0, limit=100)\n",
    "for listener in listeners.items:\n",
    "    api.delete_listener(listener.id)"
   ]
  },
  {
   "cell_type": "markdown",
   "id": "b6929429-0fc6-4c5d-ae59-c4d306b9039f",
   "metadata": {},
   "source": [
    "# Implant Management"
   ]
  },
  {
   "cell_type": "markdown",
   "id": "74e85d93-cc21-4dea-996d-835a49625af9",
   "metadata": {},
   "source": [
    "#### Download implant"
   ]
  },
  {
   "cell_type": "code",
   "execution_count": null,
   "id": "c14641a1-1aeb-46f7-b82e-be062b3e9814",
   "metadata": {},
   "outputs": [],
   "source": [
    "from pathlib import Path\n",
    "operating_system = OperatingSystem(\"windows\")\n",
    "architecture = Architecture(\"x86_64\")\n",
    "implant_type = ArtifactType(\"exe\")\n",
    "download_path = Path.home() / \"Desktop\" / (\"implant.\" + operating_system.to_str() + \".\" + architecture.to_str() + \".\" + implant_type.to_str())\n",
    "\n",
    "response = api.download_implant(listener.id, operating_system, architecture, implant_type)\n",
    "open(download_path, 'wb').write(response.read())\n",
    "os.chmod(download_path, 0o775)\n",
    "print(f\"{download_path} [{round(os.path.getsize(download_path) / 1024 / 1024, 2)} MB]\")"
   ]
  },
  {
   "cell_type": "markdown",
   "id": "e95e5902",
   "metadata": {},
   "source": [
    "#### Launch implant"
   ]
  },
  {
   "cell_type": "code",
   "execution_count": null,
   "id": "dc9c209c",
   "metadata": {},
   "outputs": [],
   "source": [
    "os.startfile(download_path)"
   ]
  },
  {
   "cell_type": "markdown",
   "id": "eed069c2-1c4f-4653-b829-ce6222f7a930",
   "metadata": {},
   "source": [
    "#### List implants"
   ]
  },
  {
   "cell_type": "code",
   "execution_count": null,
   "id": "a667b327-5ed5-48d1-8712-d19437c72970",
   "metadata": {
    "scrolled": true
   },
   "outputs": [],
   "source": [
    "implants = api.get_implants(offset=0, limit=100)\n",
    "pprint(implants.items[-1])"
   ]
  },
  {
   "cell_type": "markdown",
   "id": "56754f9d",
   "metadata": {},
   "source": [
    "#### Submit task to an implant"
   ]
  },
  {
   "cell_type": "markdown",
   "id": "707f2d34-6ff9-47f2-a5a5-1f60f8c096dd",
   "metadata": {},
   "source": [
    "First, create the lua script that will be executed on the implant, then create a Task object that will be used to submit the script to the server referencing the target implant."
   ]
  },
  {
   "cell_type": "code",
   "execution_count": null,
   "id": "0ead6212-a37d-46bb-829b-af5fb53d67ce",
   "metadata": {
    "tags": []
   },
   "outputs": [],
   "source": [
    "script='''\n",
    "\n",
    "local implant = require 'implant'\n",
    "\n",
    "print(\"Current implant checkin period is set to \" .. implant.dwell() .. \" seconds\")\n",
    "\n",
    "local checkin = 5\n",
    "\n",
    "print(\"Setting implant checkin period to \" .. checkin .. \" seconds\")\n",
    "\n",
    "implant.dwell(checkin)\n",
    "\n",
    "'''\n",
    "task = Task(implants.items[-1].id, script=base64.b64encode(script.encode()).decode())"
   ]
  },
  {
   "cell_type": "markdown",
   "id": "bcab0b1d-e901-4964-a0b6-9a2949cd3828",
   "metadata": {},
   "source": [
    "Now submit the Task to the server, which will then be collected by the implant on it's next check-in."
   ]
  },
  {
   "cell_type": "code",
   "execution_count": null,
   "id": "37af92d2-d954-4c4a-8ffe-ae4a414ae64f",
   "metadata": {
    "scrolled": true
   },
   "outputs": [],
   "source": [
    "task = api.create_task_for_implant(id=implants.items[-1].id, task=task)\n",
    "pprint(task)"
   ]
  },
  {
   "cell_type": "markdown",
   "id": "25fcda4d",
   "metadata": {},
   "source": [
    "#### Check status and show result"
   ]
  },
  {
   "cell_type": "markdown",
   "id": "037d3574-d12a-485d-9ad0-8f2609ab7a3a",
   "metadata": {},
   "source": [
    "Use a rudamentary loop to check every second for a response to the submitted task. Ideally the WebSocket based interface exposed by the server should be used to ingest pushed events from the server, which would allow asynchronous interaction."
   ]
  },
  {
   "cell_type": "code",
   "execution_count": null,
   "id": "138515e8",
   "metadata": {},
   "outputs": [],
   "source": [
    "while True:\n",
    "    response = api.get_task(id=task.id)\n",
    "    if response.status == TaskStatus(3):\n",
    "        print(base64.b64decode(response['output']).decode())\n",
    "        break\n",
    "    time.sleep(1)"
   ]
  },
  {
   "cell_type": "markdown",
   "id": "74cc15ab",
   "metadata": {},
   "source": [
    "## Script Examples"
   ]
  },
  {
   "cell_type": "markdown",
   "id": "d5d4510d",
   "metadata": {},
   "source": [
    "#### Loading a module"
   ]
  },
  {
   "cell_type": "markdown",
   "id": "af93a1f2-5762-45bf-9ba8-e32a709fc5a1",
   "metadata": {},
   "source": [
    "Lua modules can be loaded during runtime. First the module will need to be preloaded - which basically means that a copy is registered within the module sub-system, ready to be loaded into a script session via a call to 'require'."
   ]
  },
  {
   "cell_type": "code",
   "execution_count": null,
   "id": "ef6ed7ff",
   "metadata": {},
   "outputs": [],
   "source": [
    "module = open(\"win32mod/win32mod.dll\", \"rb\").read()\n",
    "module_b64 = base64.b64encode(module).decode('ascii')\n",
    "\n",
    "script='''\n",
    "\n",
    "local mime = require \"mime\"\n",
    "\n",
    "local mod = \"win32mod\"\n",
    "\n",
    "print(\"Preloading lua module '\" .. mod .. \"' into runtime\")\n",
    "\n",
    "preload(1, mod, mime.unb64(\"%s\"), false)\n",
    "\n",
    "print(\"Preloaded modules:\")\n",
    "for index, name in pairs(preloaded()) do\n",
    "  print(\"- \" .. name)\n",
    "end\n",
    "\n",
    "print(\"\\\\nLoaded modules:\")\n",
    "for index, name in pairs(loaded()) do\n",
    "  print(\"- \" .. name)\n",
    "end\n",
    "\n",
    "''' % (module_b64)\n",
    "\n",
    "task = Task(implants.items[-1].id, script=base64.b64encode(script.encode()).decode())"
   ]
  },
  {
   "cell_type": "code",
   "execution_count": null,
   "id": "0cd82e7e",
   "metadata": {},
   "outputs": [],
   "source": [
    "task = api.create_task_for_implant(id=implants.items[-1].id, task=task)\n",
    "pprint(task.id)"
   ]
  },
  {
   "cell_type": "code",
   "execution_count": null,
   "id": "dcd5c3f8",
   "metadata": {},
   "outputs": [],
   "source": [
    "while True:\n",
    "    response = api.get_task(id=task.id)\n",
    "    if response.status == TaskStatus(3):\n",
    "        print(base64.b64decode(response['output']).decode())\n",
    "        break\n",
    "    time.sleep(1)"
   ]
  },
  {
   "cell_type": "markdown",
   "id": "18e2f6fe",
   "metadata": {},
   "source": [
    "#### Calling a module function from a script"
   ]
  },
  {
   "cell_type": "markdown",
   "id": "758c4bd0-5c89-4872-bab7-3e210d84109e",
   "metadata": {},
   "source": [
    "Once preloaded, the module is treated like any other lua module and can be used by scripts. The moon runtime includes some additinal functions that can be used to list both preloaded and loaded modules."
   ]
  },
  {
   "cell_type": "code",
   "execution_count": null,
   "id": "86d122e4",
   "metadata": {},
   "outputs": [],
   "source": [
    "script='''\n",
    "\n",
    "local mod = \"win32mod\"\n",
    "\n",
    "print(\"Loading lua module '\" .. mod .. \"'\")\n",
    "\n",
    "win32 = require(mod)\n",
    "\n",
    "print(\"Loaded modules:\")\n",
    "for index, name in pairs(loaded()) do\n",
    "  print(\"- \" .. name)\n",
    "end\n",
    "\n",
    "print(\"Executing function exported from module\")\n",
    "\n",
    "win32.MessageBox(\"I'm a message\", \"I'm a title\")\n",
    "\n",
    "'''\n",
    "task = Task(implants.items[-1].id, script=base64.b64encode(script.encode()).decode())"
   ]
  },
  {
   "cell_type": "code",
   "execution_count": null,
   "id": "e6747e5e",
   "metadata": {},
   "outputs": [],
   "source": [
    "task = api.create_task_for_implant(id=implants.items[-1].id, task=task)\n",
    "pprint(task.id)"
   ]
  },
  {
   "cell_type": "code",
   "execution_count": null,
   "id": "65b1cc7c",
   "metadata": {
    "scrolled": true
   },
   "outputs": [],
   "source": [
    "while True:\n",
    "    response = api.get_task(id=task.id)\n",
    "    if response.status == TaskStatus(3):\n",
    "        print(base64.b64decode(response['output']).decode())\n",
    "        break\n",
    "    time.sleep(1)"
   ]
  },
  {
   "cell_type": "markdown",
   "id": "4377f68a-d496-48bb-92c7-dc176baa1ba4",
   "metadata": {},
   "source": [
    "#### Foreign Function Interface (FFI)"
   ]
  },
  {
   "cell_type": "markdown",
   "id": "5c44216e-7d7b-4bf4-9cb6-af810417c522",
   "metadata": {},
   "source": [
    "LuaJIT, which is the default lua runtime used by Moon, comes with a build-in FFI library which allows external C functions and C data structures to be used from pure Lua code. This largely obviates the need to write tedious manual Lua/C bindings in C."
   ]
  },
  {
   "cell_type": "markdown",
   "id": "66f218f6-5fd3-4302-9686-efd3b029b9da",
   "metadata": {},
   "source": [
    "The following script performs the same action as the previously deployed module, but instead it is written using LuaJIT's FFI."
   ]
  },
  {
   "cell_type": "code",
   "execution_count": null,
   "id": "5e8d9d8c-3263-45d6-ae63-ca1cd05a5581",
   "metadata": {},
   "outputs": [],
   "source": [
    "script='''\n",
    "\n",
    "local ffi = require(\"ffi\")\n",
    "\n",
    "ffi.cdef[[\n",
    "int MessageBoxA(void *w, const char *txt, const char *cap, int type);\n",
    "]]\n",
    "\n",
    "ffi.C.MessageBoxA(nil, \"I'm a message\", \"I'm a title\", 0)\n",
    "\n",
    "print(\"done\")\n",
    "\n",
    "'''\n",
    "task = Task(implants.items[-1].id, script=base64.b64encode(script.encode()).decode())"
   ]
  },
  {
   "cell_type": "code",
   "execution_count": null,
   "id": "f0787613-b52b-4857-bd99-6cc08bdc527e",
   "metadata": {},
   "outputs": [],
   "source": [
    "task = api.create_task_for_implant(id=implants.items[-1].id, task=task)\n",
    "pprint(task.id)"
   ]
  },
  {
   "cell_type": "code",
   "execution_count": null,
   "id": "42045b99-40aa-42af-8677-488d74538c58",
   "metadata": {},
   "outputs": [],
   "source": [
    "while True:\n",
    "    response = api.get_task(id=task.id)\n",
    "    if response.status == TaskStatus(3):\n",
    "        print(base64.b64decode(response['output']).decode())\n",
    "        break\n",
    "    time.sleep(1)"
   ]
  },
  {
   "cell_type": "markdown",
   "id": "8a85a5b3-4829-41c6-9422-7cde4e403cb6",
   "metadata": {},
   "source": [
    "#### Additional implant specific functions"
   ]
  },
  {
   "cell_type": "code",
   "execution_count": null,
   "id": "9e305d5d-f0d2-462e-9f6b-a177ede8ecc1",
   "metadata": {},
   "outputs": [],
   "source": [
    "script='''\n",
    "\n",
    "local implant = require \"implant\"\n",
    "\n",
    "-- List jobs running on an implant\n",
    "\n",
    "print(\"Jobs:\")\n",
    "for index, name in pairs(implant.jobs()) do\n",
    "  print(\"- \" .. name)\n",
    "end\n",
    "\n",
    "-- Change server connection string\n",
    "\n",
    "local conn = implant.server()\n",
    "print(\"Current server connection string is '\" .. conn .. \"'\")\n",
    "print(\"Setting server connection string to '\" .. conn .. \"'\")\n",
    "implant.server(conn)\n",
    "\n",
    "-- Sleep for an arbitrary amount of seconds\n",
    "\n",
    "print(\"Implant will sleep for 2 seconds\")\n",
    "implant.sleep(2)\n",
    "\n",
    "-- Check if implant is in a \"running\" state i.e. not exiting\n",
    "\n",
    "print(\"Implant is running ... \" .. tostring(implant.running()))\n",
    "\n",
    "'''\n",
    "task = Task(implants.items[-1].id, script=base64.b64encode(script.encode()).decode())"
   ]
  },
  {
   "cell_type": "code",
   "execution_count": null,
   "id": "90c3de15-76b3-43e9-93a4-f4ebd951f51d",
   "metadata": {},
   "outputs": [],
   "source": [
    "task = api.create_task_for_implant(id=implants.items[-1].id, task=task)\n",
    "pprint(task.id)"
   ]
  },
  {
   "cell_type": "code",
   "execution_count": null,
   "id": "d4e9da57-8a2e-4750-bc7c-7ddb18202bdd",
   "metadata": {},
   "outputs": [],
   "source": [
    "while True:\n",
    "    response = api.get_task(id=task.id)\n",
    "    if response.status == TaskStatus(3):\n",
    "        print(base64.b64decode(response['output']).decode())\n",
    "        break\n",
    "    time.sleep(1)"
   ]
  },
  {
   "cell_type": "markdown",
   "id": "5669dbd7-13b4-4269-a44b-ec01a410103d",
   "metadata": {},
   "source": [
    "#### Shutdown implant"
   ]
  },
  {
   "cell_type": "markdown",
   "id": "6cf413e8-9fdb-4035-b127-4a4beee3c070",
   "metadata": {},
   "source": [
    "To shutdown an implant, simply call the exit function. Note, currently the implant will shutdown without responding to the task."
   ]
  },
  {
   "cell_type": "code",
   "execution_count": null,
   "id": "82d615ed-fd6f-4f8c-8094-1e3a7c38c195",
   "metadata": {},
   "outputs": [],
   "source": [
    "script='''\n",
    "\n",
    "local implant = require \"implant\"\n",
    "\n",
    "implant.exit()\n",
    "\n",
    "'''\n",
    "task = Task(implants.items[-1].id, script=base64.b64encode(script.encode()).decode())"
   ]
  },
  {
   "cell_type": "code",
   "execution_count": null,
   "id": "68606abe-56e1-4a52-a725-70aed1ec63f4",
   "metadata": {},
   "outputs": [],
   "source": [
    "task = api.create_task_for_implant(id=implants.items[-1].id, task=task)\n",
    "pprint(task.id)"
   ]
  }
 ],
 "metadata": {
  "kernelspec": {
   "display_name": "Python 3 (ipykernel)",
   "language": "python",
   "name": "python3"
  },
  "language_info": {
   "codemirror_mode": {
    "name": "ipython",
    "version": 3
   },
   "file_extension": ".py",
   "mimetype": "text/x-python",
   "name": "python",
   "nbconvert_exporter": "python",
   "pygments_lexer": "ipython3",
   "version": "3.11.5"
  }
 },
 "nbformat": 4,
 "nbformat_minor": 5
}
